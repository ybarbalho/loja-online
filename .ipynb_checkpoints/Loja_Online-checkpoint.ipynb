{
 "cells": [
  {
   "cell_type": "markdown",
   "metadata": {},
   "source": [
    "# Projeto Teste A/B: estudo de hipóteses\n",
    "\n",
    "No projeto em tela, observaremos o impacto de alterações feitas no sistema de nossa loja on-line por meio da aplicação de um teste A/B. Esse tipo de teste sugere a exibição de páginas com apresentações diferentes para dois grupos de usuários: um dos grupos, o grupo de controle (grupo A), irá visualizar a versão normalizada da página, sem alterações. O grupo de tratamento ou teste (grupo B) irá visualizar a versão com as alterações que se deseja estudar, de modo a mensurar seu impacto na conversão dos clientes após essa nova implementação."
   ]
  },
  {
   "cell_type": "code",
   "execution_count": 1,
   "metadata": {},
   "outputs": [],
   "source": [
    "# Importando as bibliotecas\n",
    "import pandas as pd\n",
    "import numpy as np\n",
    "from matplotlib import pyplot as plt"
   ]
  },
  {
   "cell_type": "markdown",
   "metadata": {},
   "source": [
    "## Importação e tratamento dos dados"
   ]
  },
  {
   "cell_type": "code",
   "execution_count": 2,
   "metadata": {},
   "outputs": [],
   "source": [
    "# Importando o dataframe de hipóteses\n",
    "df_hypotheses = pd.read_csv('./datasets/hypotheses_us.csv', sep=';')"
   ]
  },
  {
   "cell_type": "code",
   "execution_count": 3,
   "metadata": {},
   "outputs": [
    {
     "data": {
      "text/plain": [
       "array(['Add two new channels for attracting traffic. This will bring 30% more users',\n",
       "       'Launch your own delivery service. This will shorten delivery time',\n",
       "       \"Add product recommendation blocks to the store's site. This will increase conversion and average purchase size\",\n",
       "       'Change the category structure. This will increase conversion since users will find the products they want more quickly',\n",
       "       'Change the background color on the main page. This will increase user engagement',\n",
       "       'Add a customer review page. This will increase the number of orders',\n",
       "       'Show banners with current offers and sales on the main page. This will boost conversion',\n",
       "       'Add a subscription form to all the main pages. This will help you compile a mailing list',\n",
       "       'Launch a promotion that gives users discounts on their birthdays'],\n",
       "      dtype=object)"
      ]
     },
     "execution_count": 3,
     "metadata": {},
     "output_type": "execute_result"
    }
   ],
   "source": [
    "# Verificando as hipóteses\n",
    "df_hypotheses['Hypothesis'].unique()"
   ]
  },
  {
   "cell_type": "markdown",
   "metadata": {},
   "source": [
    "Como é possível observar, nosso dataframe de hipóteses contém 9 hipóteses a serem trabalhadas durante a análise. Aplicaremos as metodologias recomendadas para identificar qual das hipóteses deve ser priorizada em nosso estudo."
   ]
  },
  {
   "cell_type": "code",
   "execution_count": 4,
   "metadata": {},
   "outputs": [],
   "source": [
    "# Importando o dataframe de pedidos\n",
    "df_orders = pd.read_csv('./datasets/orders_us.csv', parse_dates=['date'])"
   ]
  },
  {
   "cell_type": "code",
   "execution_count": 5,
   "metadata": {},
   "outputs": [
    {
     "name": "stdout",
     "output_type": "stream",
     "text": [
      "<class 'pandas.core.frame.DataFrame'>\n",
      "RangeIndex: 1197 entries, 0 to 1196\n",
      "Data columns (total 5 columns):\n",
      " #   Column         Non-Null Count  Dtype         \n",
      "---  ------         --------------  -----         \n",
      " 0   transactionId  1197 non-null   int64         \n",
      " 1   visitorId      1197 non-null   int64         \n",
      " 2   date           1197 non-null   datetime64[ns]\n",
      " 3   revenue        1197 non-null   float64       \n",
      " 4   group          1197 non-null   object        \n",
      "dtypes: datetime64[ns](1), float64(1), int64(2), object(1)\n",
      "memory usage: 46.9+ KB\n"
     ]
    }
   ],
   "source": [
    "df_orders.info()"
   ]
  },
  {
   "cell_type": "markdown",
   "metadata": {},
   "source": [
    "No dataframe de pedidos, durante a importação fizemos a conversão das datas da tabela para o tipo datetime64, de modo a facilitar o trabalho com essas datas conforme necessário durante o estudo. Ademais, identificamos que os demais dados se encontram nos formatos adequados para a análise."
   ]
  },
  {
   "cell_type": "code",
   "execution_count": 6,
   "metadata": {},
   "outputs": [],
   "source": [
    "# Importando o dataframe de visitas\n",
    "df_visits = pd.read_csv('./datasets/visits_us.csv', parse_dates=['date'])"
   ]
  },
  {
   "cell_type": "code",
   "execution_count": 7,
   "metadata": {},
   "outputs": [
    {
     "name": "stdout",
     "output_type": "stream",
     "text": [
      "<class 'pandas.core.frame.DataFrame'>\n",
      "RangeIndex: 62 entries, 0 to 61\n",
      "Data columns (total 3 columns):\n",
      " #   Column  Non-Null Count  Dtype         \n",
      "---  ------  --------------  -----         \n",
      " 0   date    62 non-null     datetime64[ns]\n",
      " 1   group   62 non-null     object        \n",
      " 2   visits  62 non-null     int64         \n",
      "dtypes: datetime64[ns](1), int64(1), object(1)\n",
      "memory usage: 1.6+ KB\n"
     ]
    }
   ],
   "source": [
    "df_visits.info()"
   ]
  },
  {
   "cell_type": "markdown",
   "metadata": {},
   "source": [
    "Assim como feito no dataframe de pedidos, no de visitas também realizamos a conversão das datas para o tipo datetime64. Os demais dados se encontram no formato ideal para a continuação do trabalho."
   ]
  },
  {
   "cell_type": "code",
   "execution_count": 8,
   "metadata": {},
   "outputs": [
    {
     "data": {
      "text/plain": [
       "2"
      ]
     },
     "execution_count": 8,
     "metadata": {},
     "output_type": "execute_result"
    }
   ],
   "source": [
    "# Identificando o número máximo de grupos por usuário.\n",
    "df_orders.groupby('visitorId')['group'].nunique().max()"
   ]
  },
  {
   "cell_type": "markdown",
   "metadata": {},
   "source": [
    "Checamos e observamos acima que existem usuários que estão nos dois grupos. Como o teste deve conter amostras de usuários unívocos em cada um dos grupos, faz-se necessária a remoção desses usuários que estão identificados em ambos os grupos."
   ]
  },
  {
   "cell_type": "code",
   "execution_count": 9,
   "metadata": {},
   "outputs": [],
   "source": [
    "# Identificando os usuários duplicados. São aqueles que estão em mais de um grupo.\n",
    "duplicates = df_orders.groupby('visitorId')['group'].nunique()\n",
    "duplicates = duplicates[duplicates>1].index"
   ]
  },
  {
   "cell_type": "code",
   "execution_count": 10,
   "metadata": {},
   "outputs": [
    {
     "data": {
      "text/html": [
       "<div>\n",
       "<style scoped>\n",
       "    .dataframe tbody tr th:only-of-type {\n",
       "        vertical-align: middle;\n",
       "    }\n",
       "\n",
       "    .dataframe tbody tr th {\n",
       "        vertical-align: top;\n",
       "    }\n",
       "\n",
       "    .dataframe thead th {\n",
       "        text-align: right;\n",
       "    }\n",
       "</style>\n",
       "<table border=\"1\" class=\"dataframe\">\n",
       "  <thead>\n",
       "    <tr style=\"text-align: right;\">\n",
       "      <th></th>\n",
       "      <th>transactionId</th>\n",
       "      <th>visitorId</th>\n",
       "      <th>date</th>\n",
       "      <th>revenue</th>\n",
       "      <th>group</th>\n",
       "    </tr>\n",
       "  </thead>\n",
       "  <tbody>\n",
       "    <tr>\n",
       "      <th>703</th>\n",
       "      <td>4293855558</td>\n",
       "      <td>8300375</td>\n",
       "      <td>2019-08-07</td>\n",
       "      <td>30.5</td>\n",
       "      <td>A</td>\n",
       "    </tr>\n",
       "    <tr>\n",
       "      <th>71</th>\n",
       "      <td>3679129301</td>\n",
       "      <td>8300375</td>\n",
       "      <td>2019-08-01</td>\n",
       "      <td>165.7</td>\n",
       "      <td>B</td>\n",
       "    </tr>\n",
       "    <tr>\n",
       "      <th>26</th>\n",
       "      <td>2223239646</td>\n",
       "      <td>199603092</td>\n",
       "      <td>2019-08-15</td>\n",
       "      <td>55.7</td>\n",
       "      <td>A</td>\n",
       "    </tr>\n",
       "    <tr>\n",
       "      <th>134</th>\n",
       "      <td>62794304</td>\n",
       "      <td>199603092</td>\n",
       "      <td>2019-08-22</td>\n",
       "      <td>110.3</td>\n",
       "      <td>A</td>\n",
       "    </tr>\n",
       "    <tr>\n",
       "      <th>823</th>\n",
       "      <td>2971973105</td>\n",
       "      <td>199603092</td>\n",
       "      <td>2019-08-27</td>\n",
       "      <td>45.9</td>\n",
       "      <td>A</td>\n",
       "    </tr>\n",
       "    <tr>\n",
       "      <th>1102</th>\n",
       "      <td>1941707234</td>\n",
       "      <td>199603092</td>\n",
       "      <td>2019-08-12</td>\n",
       "      <td>100.0</td>\n",
       "      <td>A</td>\n",
       "    </tr>\n",
       "    <tr>\n",
       "      <th>246</th>\n",
       "      <td>437656952</td>\n",
       "      <td>199603092</td>\n",
       "      <td>2019-08-02</td>\n",
       "      <td>55.7</td>\n",
       "      <td>B</td>\n",
       "    </tr>\n",
       "    <tr>\n",
       "      <th>1013</th>\n",
       "      <td>83566152</td>\n",
       "      <td>232979603</td>\n",
       "      <td>2019-08-31</td>\n",
       "      <td>5.9</td>\n",
       "      <td>A</td>\n",
       "    </tr>\n",
       "    <tr>\n",
       "      <th>1009</th>\n",
       "      <td>2670069237</td>\n",
       "      <td>232979603</td>\n",
       "      <td>2019-08-31</td>\n",
       "      <td>45.6</td>\n",
       "      <td>B</td>\n",
       "    </tr>\n",
       "    <tr>\n",
       "      <th>41</th>\n",
       "      <td>2594268419</td>\n",
       "      <td>237748145</td>\n",
       "      <td>2019-08-15</td>\n",
       "      <td>20.8</td>\n",
       "      <td>A</td>\n",
       "    </tr>\n",
       "  </tbody>\n",
       "</table>\n",
       "</div>"
      ],
      "text/plain": [
       "      transactionId  visitorId       date  revenue group\n",
       "703      4293855558    8300375 2019-08-07     30.5     A\n",
       "71       3679129301    8300375 2019-08-01    165.7     B\n",
       "26       2223239646  199603092 2019-08-15     55.7     A\n",
       "134        62794304  199603092 2019-08-22    110.3     A\n",
       "823      2971973105  199603092 2019-08-27     45.9     A\n",
       "1102     1941707234  199603092 2019-08-12    100.0     A\n",
       "246       437656952  199603092 2019-08-02     55.7     B\n",
       "1013       83566152  232979603 2019-08-31      5.9     A\n",
       "1009     2670069237  232979603 2019-08-31     45.6     B\n",
       "41       2594268419  237748145 2019-08-15     20.8     A"
      ]
     },
     "execution_count": 10,
     "metadata": {},
     "output_type": "execute_result"
    }
   ],
   "source": [
    "# Visualizando esses usuários duplicados\n",
    "df_orders[df_orders['visitorId'].isin(duplicates)].sort_values(by=['visitorId', 'group']).head(10)"
   ]
  },
  {
   "cell_type": "markdown",
   "metadata": {},
   "source": [
    "Após descobrirmos os números de identificação dos usuários presentes em ambos os grupos, seguimos com a remoção desses usuários da nossa amostra."
   ]
  },
  {
   "cell_type": "code",
   "execution_count": 11,
   "metadata": {},
   "outputs": [],
   "source": [
    "# Removendo os usuários duplicados\n",
    "df_orders = df_orders[~df_orders['visitorId'].isin(duplicates)]"
   ]
  },
  {
   "cell_type": "markdown",
   "metadata": {},
   "source": [
    "## Estudando as hipóteses"
   ]
  },
  {
   "cell_type": "code",
   "execution_count": 12,
   "metadata": {},
   "outputs": [
    {
     "data": {
      "text/plain": [
       "Index(['Hypothesis', 'Reach', 'Impact', 'Confidence', 'Effort'], dtype='object')"
      ]
     },
     "execution_count": 12,
     "metadata": {},
     "output_type": "execute_result"
    }
   ],
   "source": [
    "# Visualizando as colunas de hipótese\n",
    "df_hypotheses.columns"
   ]
  },
  {
   "cell_type": "markdown",
   "metadata": {},
   "source": [
    "Acima identificamos as colunas presentes em nossa tabela de hipóteses. Impact, Confidence e Effort são informações necessárias para a aplicação do framework ICE, importante para decidirmos qual das hipóteses deve ter prioridade dentre nossas iniciativas. Em conjunto com a coluna Reach, poderemos utilizar o framework RICE, que, além de nos transmitir as informações anteriores, nos passa o alcance que cada uma das implementações deverá representar ao nosso negócio."
   ]
  },
  {
   "cell_type": "markdown",
   "metadata": {},
   "source": [
    "### Framework ICE (Impact. Confidence. Effort)"
   ]
  },
  {
   "cell_type": "markdown",
   "metadata": {},
   "source": [
    "Iniciaremos nosso estudo pelo cálculo do framework ICE para cada uma de nossas hipóteses."
   ]
  },
  {
   "cell_type": "code",
   "execution_count": 13,
   "metadata": {},
   "outputs": [],
   "source": [
    "# Calculando o framework ICE\n",
    "df_hypotheses['ICE'] = ((df_hypotheses['Impact'] * df_hypotheses['Confidence']) / df_hypotheses['Effort']).round(2)"
   ]
  },
  {
   "cell_type": "code",
   "execution_count": 14,
   "metadata": {},
   "outputs": [],
   "source": [
    "# Ampliando a largura da coluna que contém a hipótese, para melhor observação.\n",
    "pd.set_option('display.max_colwidth', None)"
   ]
  },
  {
   "cell_type": "code",
   "execution_count": 15,
   "metadata": {},
   "outputs": [
    {
     "data": {
      "text/html": [
       "<div>\n",
       "<style scoped>\n",
       "    .dataframe tbody tr th:only-of-type {\n",
       "        vertical-align: middle;\n",
       "    }\n",
       "\n",
       "    .dataframe tbody tr th {\n",
       "        vertical-align: top;\n",
       "    }\n",
       "\n",
       "    .dataframe thead th {\n",
       "        text-align: right;\n",
       "    }\n",
       "</style>\n",
       "<table border=\"1\" class=\"dataframe\">\n",
       "  <thead>\n",
       "    <tr style=\"text-align: right;\">\n",
       "      <th></th>\n",
       "      <th>Hypothesis</th>\n",
       "      <th>ICE</th>\n",
       "    </tr>\n",
       "  </thead>\n",
       "  <tbody>\n",
       "    <tr>\n",
       "      <th>8</th>\n",
       "      <td>Launch a promotion that gives users discounts on their birthdays</td>\n",
       "      <td>16.20</td>\n",
       "    </tr>\n",
       "    <tr>\n",
       "      <th>0</th>\n",
       "      <td>Add two new channels for attracting traffic. This will bring 30% more users</td>\n",
       "      <td>13.33</td>\n",
       "    </tr>\n",
       "    <tr>\n",
       "      <th>7</th>\n",
       "      <td>Add a subscription form to all the main pages. This will help you compile a mailing list</td>\n",
       "      <td>11.20</td>\n",
       "    </tr>\n",
       "    <tr>\n",
       "      <th>6</th>\n",
       "      <td>Show banners with current offers and sales on the main page. This will boost conversion</td>\n",
       "      <td>8.00</td>\n",
       "    </tr>\n",
       "    <tr>\n",
       "      <th>2</th>\n",
       "      <td>Add product recommendation blocks to the store's site. This will increase conversion and average purchase size</td>\n",
       "      <td>7.00</td>\n",
       "    </tr>\n",
       "    <tr>\n",
       "      <th>1</th>\n",
       "      <td>Launch your own delivery service. This will shorten delivery time</td>\n",
       "      <td>2.00</td>\n",
       "    </tr>\n",
       "    <tr>\n",
       "      <th>5</th>\n",
       "      <td>Add a customer review page. This will increase the number of orders</td>\n",
       "      <td>1.33</td>\n",
       "    </tr>\n",
       "    <tr>\n",
       "      <th>3</th>\n",
       "      <td>Change the category structure. This will increase conversion since users will find the products they want more quickly</td>\n",
       "      <td>1.12</td>\n",
       "    </tr>\n",
       "    <tr>\n",
       "      <th>4</th>\n",
       "      <td>Change the background color on the main page. This will increase user engagement</td>\n",
       "      <td>1.00</td>\n",
       "    </tr>\n",
       "  </tbody>\n",
       "</table>\n",
       "</div>"
      ],
      "text/plain": [
       "                                                                                                               Hypothesis  \\\n",
       "8                                                        Launch a promotion that gives users discounts on their birthdays   \n",
       "0                                             Add two new channels for attracting traffic. This will bring 30% more users   \n",
       "7                                Add a subscription form to all the main pages. This will help you compile a mailing list   \n",
       "6                                 Show banners with current offers and sales on the main page. This will boost conversion   \n",
       "2          Add product recommendation blocks to the store's site. This will increase conversion and average purchase size   \n",
       "1                                                       Launch your own delivery service. This will shorten delivery time   \n",
       "5                                                     Add a customer review page. This will increase the number of orders   \n",
       "3  Change the category structure. This will increase conversion since users will find the products they want more quickly   \n",
       "4                                        Change the background color on the main page. This will increase user engagement   \n",
       "\n",
       "     ICE  \n",
       "8  16.20  \n",
       "0  13.33  \n",
       "7  11.20  \n",
       "6   8.00  \n",
       "2   7.00  \n",
       "1   2.00  \n",
       "5   1.33  \n",
       "3   1.12  \n",
       "4   1.00  "
      ]
     },
     "execution_count": 15,
     "metadata": {},
     "output_type": "execute_result"
    }
   ],
   "source": [
    "# Observando os valores de ICE\n",
    "df_hypotheses[['Hypothesis', 'ICE']].sort_values(by='ICE', ascending=False)"
   ]
  },
  {
   "cell_type": "markdown",
   "metadata": {},
   "source": [
    "Como podemos observar, as hipóteses que, segundo a metodologia ICE, representam maior potencial de valor em nosso estudo são as seguintes:\n",
    "\n",
    "- Promoção e oferta de descontos aos usuários aniversariantes: 16.20 pontos;\n",
    "- Adição de dois novos canais de tráfego, o que trará 30% mais usuários: 13.33 pontos;\n",
    "- Adição de um formulário de inscrição em todas as páginas principais, que ajudará a compilar uma lista de e-mails: 11.20 pontos."
   ]
  },
  {
   "cell_type": "markdown",
   "metadata": {},
   "source": [
    "### Framework RICE (Reach. Impact. Confidence. Effort)"
   ]
  },
  {
   "cell_type": "markdown",
   "metadata": {},
   "source": [
    "A princípio, a hipótese mais sugerida a ser trabalhada em nosso estudo é a de ofertar descontos para os usuários nos dias do seu aniversário. A seguir, por meio da aplicação do framework RICE, que também leva em conta o alcance da medida, iremos nos certificar de qual hipótese é a mais adequada para o estudo."
   ]
  },
  {
   "cell_type": "code",
   "execution_count": 16,
   "metadata": {},
   "outputs": [],
   "source": [
    "# Calculando o framework RICE\n",
    "df_hypotheses['RICE'] = ((df_hypotheses['Reach'] * df_hypotheses['Impact'] * df_hypotheses['Confidence']) / df_hypotheses['Effort'])"
   ]
  },
  {
   "cell_type": "code",
   "execution_count": 17,
   "metadata": {},
   "outputs": [
    {
     "data": {
      "text/html": [
       "<div>\n",
       "<style scoped>\n",
       "    .dataframe tbody tr th:only-of-type {\n",
       "        vertical-align: middle;\n",
       "    }\n",
       "\n",
       "    .dataframe tbody tr th {\n",
       "        vertical-align: top;\n",
       "    }\n",
       "\n",
       "    .dataframe thead th {\n",
       "        text-align: right;\n",
       "    }\n",
       "</style>\n",
       "<table border=\"1\" class=\"dataframe\">\n",
       "  <thead>\n",
       "    <tr style=\"text-align: right;\">\n",
       "      <th></th>\n",
       "      <th>Hypothesis</th>\n",
       "      <th>RICE</th>\n",
       "    </tr>\n",
       "  </thead>\n",
       "  <tbody>\n",
       "    <tr>\n",
       "      <th>7</th>\n",
       "      <td>Add a subscription form to all the main pages. This will help you compile a mailing list</td>\n",
       "      <td>112.0</td>\n",
       "    </tr>\n",
       "    <tr>\n",
       "      <th>2</th>\n",
       "      <td>Add product recommendation blocks to the store's site. This will increase conversion and average purchase size</td>\n",
       "      <td>56.0</td>\n",
       "    </tr>\n",
       "    <tr>\n",
       "      <th>0</th>\n",
       "      <td>Add two new channels for attracting traffic. This will bring 30% more users</td>\n",
       "      <td>40.0</td>\n",
       "    </tr>\n",
       "    <tr>\n",
       "      <th>6</th>\n",
       "      <td>Show banners with current offers and sales on the main page. This will boost conversion</td>\n",
       "      <td>40.0</td>\n",
       "    </tr>\n",
       "    <tr>\n",
       "      <th>8</th>\n",
       "      <td>Launch a promotion that gives users discounts on their birthdays</td>\n",
       "      <td>16.2</td>\n",
       "    </tr>\n",
       "    <tr>\n",
       "      <th>3</th>\n",
       "      <td>Change the category structure. This will increase conversion since users will find the products they want more quickly</td>\n",
       "      <td>9.0</td>\n",
       "    </tr>\n",
       "    <tr>\n",
       "      <th>1</th>\n",
       "      <td>Launch your own delivery service. This will shorten delivery time</td>\n",
       "      <td>4.0</td>\n",
       "    </tr>\n",
       "    <tr>\n",
       "      <th>5</th>\n",
       "      <td>Add a customer review page. This will increase the number of orders</td>\n",
       "      <td>4.0</td>\n",
       "    </tr>\n",
       "    <tr>\n",
       "      <th>4</th>\n",
       "      <td>Change the background color on the main page. This will increase user engagement</td>\n",
       "      <td>3.0</td>\n",
       "    </tr>\n",
       "  </tbody>\n",
       "</table>\n",
       "</div>"
      ],
      "text/plain": [
       "                                                                                                               Hypothesis  \\\n",
       "7                                Add a subscription form to all the main pages. This will help you compile a mailing list   \n",
       "2          Add product recommendation blocks to the store's site. This will increase conversion and average purchase size   \n",
       "0                                             Add two new channels for attracting traffic. This will bring 30% more users   \n",
       "6                                 Show banners with current offers and sales on the main page. This will boost conversion   \n",
       "8                                                        Launch a promotion that gives users discounts on their birthdays   \n",
       "3  Change the category structure. This will increase conversion since users will find the products they want more quickly   \n",
       "1                                                       Launch your own delivery service. This will shorten delivery time   \n",
       "5                                                     Add a customer review page. This will increase the number of orders   \n",
       "4                                        Change the background color on the main page. This will increase user engagement   \n",
       "\n",
       "    RICE  \n",
       "7  112.0  \n",
       "2   56.0  \n",
       "0   40.0  \n",
       "6   40.0  \n",
       "8   16.2  \n",
       "3    9.0  \n",
       "1    4.0  \n",
       "5    4.0  \n",
       "4    3.0  "
      ]
     },
     "execution_count": 17,
     "metadata": {},
     "output_type": "execute_result"
    }
   ],
   "source": [
    "# Observando os valores de RICE\n",
    "df_hypotheses[['Hypothesis', 'RICE']].sort_values(by='RICE', ascending=False)"
   ]
  },
  {
   "cell_type": "markdown",
   "metadata": {},
   "source": [
    "Por meio da aplicação da metodologia RICE, observamos que a hipótese mais sugerida é a de adicionar um formulário de inscrição em todas as páginas principais, a fim de compilar uma lista de e-mails para futuras promoções e retenção de clientes. É notável que essa implementação afetará uma quantidade maior de clientes que a recomendada pela metodologia ICE, que abrangia apenas clientes aniversariantes.\n",
    "\n",
    "Dessa forma, na comparação entre os dois modelos de framework para análise de hipóteses (ICE e RICE), sugerimos a aplicação do modelo RICE, tendo em vista que esse também abrange o alcance da hipótese, isto é, uma previsão do número de usuários que serão afetados pela implementação.\n",
    "\n",
    "Sendo assim, a hipótese a ser trabalhada será: **\"Adição de um formulário de inscrição em todas as páginas principais, que ajudará a compilar uma lista de e-mails\"**."
   ]
  },
  {
   "cell_type": "markdown",
   "metadata": {},
   "source": [
    "## Testagem A/B e observação dos dados"
   ]
  },
  {
   "cell_type": "markdown",
   "metadata": {},
   "source": [
    "A partir de agora, entraremos no estudo efetivo de nossos dados. Iremos identificar que informações importantes eles têm a apresentar para nosso estudo, e quais foram os resultados da aplicação do teste A/B realizado dentre os usuários que visualizaram a versão normalizada do site (grupo de controle - A), e os usuários que visualizaram a versão implementada com a adição de um formulário de inscrição nas páginas principais (grupo de tratamento - B)."
   ]
  },
  {
   "cell_type": "code",
   "execution_count": 18,
   "metadata": {},
   "outputs": [],
   "source": [
    "# Obtendo as datas e os grupos da tabela de pedidos.\n",
    "datesGroups = df_orders[['date', 'group']].drop_duplicates()"
   ]
  },
  {
   "cell_type": "code",
   "execution_count": 19,
   "metadata": {},
   "outputs": [
    {
     "data": {
      "text/plain": [
       "(62, 2)"
      ]
     },
     "execution_count": 19,
     "metadata": {},
     "output_type": "execute_result"
    }
   ],
   "source": [
    "datesGroups.shape"
   ]
  },
  {
   "cell_type": "markdown",
   "metadata": {},
   "source": [
    "Primeiramente, separamos as datas do período de aplicação do teste. Como podemos observar, temos 62 linhas de datas, referentes aos 31 dias do período de realização do teste (mês de agosto) vezes 2, o número de grupos do nosso teste.\n",
    "\n",
    "A seguir, iremos agregar os dados da nossa tabela de pedidos à tabela anterior de datas, calculando os valores acumulados para o número de transações, de visitantes e a receita total acumulada até aquela data."
   ]
  },
  {
   "cell_type": "code",
   "execution_count": 20,
   "metadata": {},
   "outputs": [],
   "source": [
    "# Realizando a agregação das informações de pedidos de forma cumulativa.\n",
    "ordersAggregated = datesGroups.apply(\n",
    "    lambda x: df_orders[\n",
    "        np.logical_and(\n",
    "            df_orders['date'] <= x['date'], df_orders['group'] == x['group']\n",
    "        )\n",
    "    ].agg(\n",
    "        {\n",
    "            'date': 'max',\n",
    "            'group': 'max',\n",
    "            'transactionId': pd.Series.nunique,\n",
    "            'visitorId': pd.Series.nunique,\n",
    "            'revenue': 'sum',\n",
    "        }\n",
    "    ),\n",
    "    axis=1).sort_values(by=['date', 'group'])"
   ]
  },
  {
   "cell_type": "code",
   "execution_count": 21,
   "metadata": {},
   "outputs": [],
   "source": [
    "# Renomeando as colunas\n",
    "ordersAggregated.columns = ['date', 'group', 'orders', 'buyers', 'revenue']"
   ]
  },
  {
   "cell_type": "code",
   "execution_count": 22,
   "metadata": {},
   "outputs": [],
   "source": [
    "# Segregando os grupos A e B\n",
    "ordersAggregatedA = ordersAggregated[ordersAggregated['group']=='A']\n",
    "ordersAggregatedB = ordersAggregated[ordersAggregated['group']=='B']"
   ]
  },
  {
   "cell_type": "markdown",
   "metadata": {},
   "source": [
    "### Receita acumulada e tamanho médio dos pedidos"
   ]
  },
  {
   "cell_type": "markdown",
   "metadata": {},
   "source": [
    "Separamos as informações acumuladas dos grupos A e B. Nesse momento, vamos calcular e observar os padrões de compras de cada grupo, analisando a receita acumulada por dia para cada um deles, e o tamanho médio acumulado dos pedidos."
   ]
  },
  {
   "cell_type": "code",
   "execution_count": 23,
   "metadata": {},
   "outputs": [
    {
     "data": {
      "image/png": "[encoded data removed]",
      "text/plain": [
       "<Figure size 640x480 with 1 Axes>"
      ]
     },
     "metadata": {},
     "output_type": "display_data"
    }
   ],
   "source": [
    "# Construindo o gráfico de receita acumulada do grupo A\n",
    "plt.plot(ordersAggregatedA['date'], ordersAggregatedA['revenue'], label='A')\n",
    "\n",
    "# Construindo o gráfico de receita acumulada do grupo B\n",
    "plt.plot(ordersAggregatedB['date'], ordersAggregatedB['revenue'], label='B')\n",
    "\n",
    "plt.legend()\n",
    "plt.title('Receita acumulada por grupo')\n",
    "plt.ylabel('Valor acumulado ($)')\n",
    "plt.grid(linestyle='--', alpha=0.5)\n",
    "plt.xticks(rotation=90)\n",
    "plt.show()"
   ]
  },
  {
   "cell_type": "markdown",
   "metadata": {},
   "source": [
    "Podemos notar um pico de receita do dia 18 para o dia 19 de agosto. Devido a esse salto na receita acumulada, o gráfico de receitas do grupo B, que até então estava relativamente pareado ao do grupo A, passa a ter uma grande disparidade de valores em relação ao outro grupo."
   ]
  },
  {
   "cell_type": "code",
   "execution_count": 24,
   "metadata": {},
   "outputs": [
    {
     "data": {
      "image/png": "[encoded data removed]",
      "text/plain": [
       "<Figure size 640x480 with 1 Axes>"
      ]
     },
     "metadata": {},
     "output_type": "display_data"
    }
   ],
   "source": [
    "# Construindo o gráfico de tamanho médio do pedido do grupo A\n",
    "plt.plot(ordersAggregatedA['date'], (ordersAggregatedA['revenue']/ordersAggregatedA['orders']), label='A')\n",
    "\n",
    "# Construindo o gráfico de tamanho médio do pedido do grupo B\n",
    "plt.plot(ordersAggregatedB['date'], (ordersAggregatedB['revenue']/ordersAggregatedB['orders']), label='B')\n",
    "\n",
    "plt.legend()\n",
    "plt.title('Tamanho médio acumulado do pedido por grupo')\n",
    "plt.ylabel('Valor médio ($)')\n",
    "plt.grid(linestyle='--', alpha=0.5)\n",
    "plt.xticks(rotation=90)\n",
    "plt.show()"
   ]
  },
  {
   "cell_type": "markdown",
   "metadata": {},
   "source": [
    "Observamos novamente o pico identificado no dia 19 de agosto, agora em relação ao tamanho médio acumulado dos pedidos. O grupo B realizou compras significativas nesse dia, que fizeram com que houvesse um destaque na disparidade gráfica entre os grupos.\n",
    "\n",
    "Apesar disso, podemos identificar uma queda no valor médio do grupo B após tal salto, enquanto o grupo A se manteve estável próximo a casa dos $120 por pedido."
   ]
  },
  {
   "cell_type": "markdown",
   "metadata": {},
   "source": [
    "### Diferença relativa no tamanho médio acumulado do pedido"
   ]
  },
  {
   "cell_type": "markdown",
   "metadata": {},
   "source": [
    "Em comparação aos volumes médios de compra observados entre os grupos, vamos utilizar o cálculo da diferença relativa para observar com mais detalhes o real impacto das disparidades gráficas observadas anteriormente.\n",
    "\n",
    "A diferença relativa compara os valores acumulados dos dois grupos a fim de expressar a diferença entre eles, em termos percentuais. Essa métrica é útil para avaliar o impacto de uma mudança em relação ao valor original, e nos permitirá realizar uma análise mais clara e informativa."
   ]
  },
  {
   "cell_type": "code",
   "execution_count": 25,
   "metadata": {},
   "outputs": [],
   "source": [
    "# Reunindo os dados em um dataframe\n",
    "mergedOrders = ordersAggregatedA.merge(ordersAggregatedB, left_on='date', right_on='date', how='left', suffixes=['A', 'B'])"
   ]
  },
  {
   "cell_type": "code",
   "execution_count": 26,
   "metadata": {},
   "outputs": [],
   "source": [
    "# Podemos remover a informação dos grupos, pois estão identificados nos nomes das colunas.\n",
    "mergedOrders = mergedOrders.drop(['groupA', 'groupB'], axis=1)"
   ]
  },
  {
   "cell_type": "code",
   "execution_count": 27,
   "metadata": {},
   "outputs": [
    {
     "data": {
      "image/png": "[encoded data removed]",
      "text/plain": [
       "<Figure size 640x480 with 1 Axes>"
      ]
     },
     "metadata": {},
     "output_type": "display_data"
    }
   ],
   "source": [
    "# Construindo um gráfico de diferença relativa para os volumes médios de compra\n",
    "plt.plot(mergedOrders['date'], (mergedOrders['revenueB']/mergedOrders['ordersB'])/(mergedOrders['revenueA']/mergedOrders['ordersA'])-1)\n",
    "\n",
    "# Acrescentando o eixo X\n",
    "plt.axhline(y=0, color='black', linestyle='--')\n",
    "plt.axhline(y=-0.1, color='grey', linestyle='--')\n",
    "\n",
    "plt.title('Diferença relativa para os volumes médios de compra')\n",
    "plt.ylabel('Diferença percentual')\n",
    "plt.grid(linestyle='--', alpha=0.5)\n",
    "plt.xticks(rotation=90)\n",
    "plt.show()"
   ]
  },
  {
   "cell_type": "markdown",
   "metadata": {},
   "source": [
    "No gráfico acima, notamos a tendência de evolução dos pedidos do grupo B ao longo do período estudado. No dia 6 de agosto há o primeiro pico no gráfico, quando o volume médio de compras do grupo B chega a 35% do volume de compras do grupo A.\n",
    "\n",
    "No dia 13 de agosto, notamos uma queda brusca nos valores do grupo B, quando esse chega a estar cerca de 10% abaixo dos valores do grupo A. Apesar disso, os valores do grupo B tornam a subir novamente, quando observamos mais uma vez o pico de compras do dia 19 de agosto. O volume médio de compras do grupo B nessa data chega a ser quase 50% maior que os valores do grupo A.\n",
    "\n",
    "Após esse notável período de alta, mais uma vez percebemos uma queda nos valores do grupo B, que não chega a ser vertiginosa por conta do período de 10 dias, caindo de 40% mais valores de vendas que o grupo A para cerca de 30% a mais, o que ainda representa uma disparidade significativa no volume médio das compras."
   ]
  },
  {
   "cell_type": "markdown",
   "metadata": {},
   "source": [
    "### Taxa de conversão de clientes"
   ]
  },
  {
   "cell_type": "markdown",
   "metadata": {},
   "source": [
    "Prosseguimos com nossa análise do teste. Agora, iremos observar a taxa de conversão de cada grupo com a proporção de pedidos para o número de visitas para cada dia. Dessa forma poderemos observar qual dos grupos, além de ter gerado maior receita, é capaz de converter o maior número de visitantes em compradores."
   ]
  },
  {
   "cell_type": "code",
   "execution_count": 28,
   "metadata": {},
   "outputs": [],
   "source": [
    "# Realizando a agregação das informações de visitas de forma cumulativa.\n",
    "visitorsAggregated = datesGroups.apply(\n",
    "    lambda x: df_visits[\n",
    "        np.logical_and(\n",
    "            df_visits['date'] <= x['date'], df_visits['group'] == x['group']\n",
    "        )\n",
    "    ].agg({'date': 'max', 'group': 'max', 'visits': 'sum'}),\n",
    "    axis=1).sort_values(by=['date', 'group'])"
   ]
  },
  {
   "cell_type": "code",
   "execution_count": 29,
   "metadata": {},
   "outputs": [
    {
     "data": {
      "text/html": [
       "<div>\n",
       "<style scoped>\n",
       "    .dataframe tbody tr th:only-of-type {\n",
       "        vertical-align: middle;\n",
       "    }\n",
       "\n",
       "    .dataframe tbody tr th {\n",
       "        vertical-align: top;\n",
       "    }\n",
       "\n",
       "    .dataframe thead th {\n",
       "        text-align: right;\n",
       "    }\n",
       "</style>\n",
       "<table border=\"1\" class=\"dataframe\">\n",
       "  <thead>\n",
       "    <tr style=\"text-align: right;\">\n",
       "      <th></th>\n",
       "      <th>date</th>\n",
       "      <th>group</th>\n",
       "      <th>visits</th>\n",
       "    </tr>\n",
       "  </thead>\n",
       "  <tbody>\n",
       "    <tr>\n",
       "      <th>55</th>\n",
       "      <td>2019-08-01</td>\n",
       "      <td>A</td>\n",
       "      <td>719</td>\n",
       "    </tr>\n",
       "    <tr>\n",
       "      <th>66</th>\n",
       "      <td>2019-08-01</td>\n",
       "      <td>B</td>\n",
       "      <td>713</td>\n",
       "    </tr>\n",
       "    <tr>\n",
       "      <th>175</th>\n",
       "      <td>2019-08-02</td>\n",
       "      <td>A</td>\n",
       "      <td>1338</td>\n",
       "    </tr>\n",
       "    <tr>\n",
       "      <th>173</th>\n",
       "      <td>2019-08-02</td>\n",
       "      <td>B</td>\n",
       "      <td>1294</td>\n",
       "    </tr>\n",
       "    <tr>\n",
       "      <th>291</th>\n",
       "      <td>2019-08-03</td>\n",
       "      <td>A</td>\n",
       "      <td>1845</td>\n",
       "    </tr>\n",
       "  </tbody>\n",
       "</table>\n",
       "</div>"
      ],
      "text/plain": [
       "          date group  visits\n",
       "55  2019-08-01     A     719\n",
       "66  2019-08-01     B     713\n",
       "175 2019-08-02     A    1338\n",
       "173 2019-08-02     B    1294\n",
       "291 2019-08-03     A    1845"
      ]
     },
     "execution_count": 29,
     "metadata": {},
     "output_type": "execute_result"
    }
   ],
   "source": [
    "visitorsAggregated.head()"
   ]
  },
  {
   "cell_type": "code",
   "execution_count": 30,
   "metadata": {},
   "outputs": [],
   "source": [
    "# Realizando o merge com as informações de pedidos. Dessa forma, teremos um df com todos os dados cumulativos.\n",
    "cumulativeData = ordersAggregated.merge(visitorsAggregated, left_on=['date', 'group'], right_on=['date', 'group'])"
   ]
  },
  {
   "cell_type": "code",
   "execution_count": 31,
   "metadata": {},
   "outputs": [
    {
     "data": {
      "text/html": [
       "<div>\n",
       "<style scoped>\n",
       "    .dataframe tbody tr th:only-of-type {\n",
       "        vertical-align: middle;\n",
       "    }\n",
       "\n",
       "    .dataframe tbody tr th {\n",
       "        vertical-align: top;\n",
       "    }\n",
       "\n",
       "    .dataframe thead th {\n",
       "        text-align: right;\n",
       "    }\n",
       "</style>\n",
       "<table border=\"1\" class=\"dataframe\">\n",
       "  <thead>\n",
       "    <tr style=\"text-align: right;\">\n",
       "      <th></th>\n",
       "      <th>date</th>\n",
       "      <th>group</th>\n",
       "      <th>orders</th>\n",
       "      <th>buyers</th>\n",
       "      <th>revenue</th>\n",
       "      <th>visits</th>\n",
       "    </tr>\n",
       "  </thead>\n",
       "  <tbody>\n",
       "    <tr>\n",
       "      <th>0</th>\n",
       "      <td>2019-08-01</td>\n",
       "      <td>A</td>\n",
       "      <td>23</td>\n",
       "      <td>19</td>\n",
       "      <td>2266.6</td>\n",
       "      <td>719</td>\n",
       "    </tr>\n",
       "    <tr>\n",
       "      <th>1</th>\n",
       "      <td>2019-08-01</td>\n",
       "      <td>B</td>\n",
       "      <td>17</td>\n",
       "      <td>17</td>\n",
       "      <td>967.2</td>\n",
       "      <td>713</td>\n",
       "    </tr>\n",
       "    <tr>\n",
       "      <th>2</th>\n",
       "      <td>2019-08-02</td>\n",
       "      <td>A</td>\n",
       "      <td>42</td>\n",
       "      <td>36</td>\n",
       "      <td>3734.9</td>\n",
       "      <td>1338</td>\n",
       "    </tr>\n",
       "    <tr>\n",
       "      <th>3</th>\n",
       "      <td>2019-08-02</td>\n",
       "      <td>B</td>\n",
       "      <td>40</td>\n",
       "      <td>39</td>\n",
       "      <td>3535.3</td>\n",
       "      <td>1294</td>\n",
       "    </tr>\n",
       "    <tr>\n",
       "      <th>4</th>\n",
       "      <td>2019-08-03</td>\n",
       "      <td>A</td>\n",
       "      <td>66</td>\n",
       "      <td>60</td>\n",
       "      <td>5550.1</td>\n",
       "      <td>1845</td>\n",
       "    </tr>\n",
       "  </tbody>\n",
       "</table>\n",
       "</div>"
      ],
      "text/plain": [
       "        date group  orders  buyers  revenue  visits\n",
       "0 2019-08-01     A      23      19   2266.6     719\n",
       "1 2019-08-01     B      17      17    967.2     713\n",
       "2 2019-08-02     A      42      36   3734.9    1338\n",
       "3 2019-08-02     B      40      39   3535.3    1294\n",
       "4 2019-08-03     A      66      60   5550.1    1845"
      ]
     },
     "execution_count": 31,
     "metadata": {},
     "output_type": "execute_result"
    }
   ],
   "source": [
    "# Dados cumulativos por data e grupo\n",
    "cumulativeData.head()"
   ]
  },
  {
   "cell_type": "markdown",
   "metadata": {},
   "source": [
    "Inicialmente, criamos um dataframe com as informações cumulativas sobre a quantidade de visitas por data e grupo. Em seguida, realizamos a junção da tabela gerada com os nossos dados cumulativos anteriores referentes aos pedidos. Dessa forma, geramos uma tabela final com todas as informações sobre os números de pedidos e visitas acumulados por dia para cada grupo do nosso teste.\n",
    "\n",
    "A partir de agora, com essa tabela em mãos, calcularemos a conversão dos dados de pedidos e visitas cumulativos. Assim, poderemos observar a taxa de conversão de clientes por cada data e grupo em separado."
   ]
  },
  {
   "cell_type": "code",
   "execution_count": 32,
   "metadata": {},
   "outputs": [],
   "source": [
    "# Gerando uma coluna de Conversão das visitas em pedidos.\n",
    "cumulativeData['conversion'] = (cumulativeData['orders'] / cumulativeData['visits'])"
   ]
  },
  {
   "cell_type": "code",
   "execution_count": 33,
   "metadata": {},
   "outputs": [],
   "source": [
    "# Segregando os grupos da tabela cumulativa\n",
    "cumulativeDataA = cumulativeData[cumulativeData['group'] == 'A']\n",
    "cumulativeDataB = cumulativeData[cumulativeData['group'] == 'B']"
   ]
  },
  {
   "cell_type": "code",
   "execution_count": 34,
   "metadata": {},
   "outputs": [
    {
     "data": {
      "image/png": "[encoded data removed]",
      "text/plain": [
       "<Figure size 640x480 with 1 Axes>"
      ]
     },
     "metadata": {},
     "output_type": "display_data"
    }
   ],
   "source": [
    "# Construindo o gráfico da taxa de conversão do grupo A \n",
    "plt.plot(cumulativeDataA['date'], cumulativeDataA['conversion'], label='A')\n",
    "\n",
    "# Construindo o gráfico da taxa de conversão do grupo B \n",
    "plt.plot(cumulativeDataB['date'], cumulativeDataB['conversion'], label='B')\n",
    "\n",
    "# Definimos os limites de y para observação\n",
    "plt.ylim(0, 0.04)\n",
    "\n",
    "plt.legend()\n",
    "plt.title('Taxa de conversão diária dos grupos')\n",
    "plt.ylabel('Percentual de conversão')\n",
    "plt.grid(linestyle='--', alpha=0.5)\n",
    "plt.xticks(rotation=90)\n",
    "plt.show()"
   ]
  },
  {
   "cell_type": "markdown",
   "metadata": {},
   "source": [
    "Observamos no gráfico da taxa de conversão diária que, nos primeiros cinco dias do período de testes, os valores de conversão do grupo A foram superiores aos do grupo B, com um pico de conversão de 3.5% das visitas diárias em pedidos. A partir do sexto dia, notamos uma reviravolta nos valores, quando o grupo B passa a ter uma taxa de conversão maior que a do grupo A, se mantendo assim até o final do período em análise.\n",
    "\n",
    "Podemos observar que, de maneira constante, os valores da taxa de conversão do grupo B ficaram na faixa dos 3% de visitas diárias convertidas em pedidos. Por outro lado, a taxa de conversão do grupo A foi de cerca de 2.5% das visitas em pedidos. O grupo B, nesse quesito, apresentou desempenho 0.05% superior ao grupo A no período."
   ]
  },
  {
   "cell_type": "code",
   "execution_count": 35,
   "metadata": {},
   "outputs": [],
   "source": [
    "# Reunindo os dados de conversão em um dataframe\n",
    "mergedCumulativeConversions = cumulativeDataA[['date','conversion']].merge(\n",
    "    cumulativeDataB[['date','conversion']], left_on='date', right_on='date', how='left', suffixes=['A', 'B'])"
   ]
  },
  {
   "cell_type": "code",
   "execution_count": 36,
   "metadata": {},
   "outputs": [
    {
     "data": {
      "text/html": [
       "<div>\n",
       "<style scoped>\n",
       "    .dataframe tbody tr th:only-of-type {\n",
       "        vertical-align: middle;\n",
       "    }\n",
       "\n",
       "    .dataframe tbody tr th {\n",
       "        vertical-align: top;\n",
       "    }\n",
       "\n",
       "    .dataframe thead th {\n",
       "        text-align: right;\n",
       "    }\n",
       "</style>\n",
       "<table border=\"1\" class=\"dataframe\">\n",
       "  <thead>\n",
       "    <tr style=\"text-align: right;\">\n",
       "      <th></th>\n",
       "      <th>date</th>\n",
       "      <th>conversionA</th>\n",
       "      <th>conversionB</th>\n",
       "    </tr>\n",
       "  </thead>\n",
       "  <tbody>\n",
       "    <tr>\n",
       "      <th>0</th>\n",
       "      <td>2019-08-01</td>\n",
       "      <td>0.031989</td>\n",
       "      <td>0.023843</td>\n",
       "    </tr>\n",
       "    <tr>\n",
       "      <th>1</th>\n",
       "      <td>2019-08-02</td>\n",
       "      <td>0.031390</td>\n",
       "      <td>0.030912</td>\n",
       "    </tr>\n",
       "    <tr>\n",
       "      <th>2</th>\n",
       "      <td>2019-08-03</td>\n",
       "      <td>0.035772</td>\n",
       "      <td>0.029950</td>\n",
       "    </tr>\n",
       "    <tr>\n",
       "      <th>3</th>\n",
       "      <td>2019-08-04</td>\n",
       "      <td>0.030055</td>\n",
       "      <td>0.026428</td>\n",
       "    </tr>\n",
       "    <tr>\n",
       "      <th>4</th>\n",
       "      <td>2019-08-05</td>\n",
       "      <td>0.029837</td>\n",
       "      <td>0.027134</td>\n",
       "    </tr>\n",
       "  </tbody>\n",
       "</table>\n",
       "</div>"
      ],
      "text/plain": [
       "        date  conversionA  conversionB\n",
       "0 2019-08-01     0.031989     0.023843\n",
       "1 2019-08-02     0.031390     0.030912\n",
       "2 2019-08-03     0.035772     0.029950\n",
       "3 2019-08-04     0.030055     0.026428\n",
       "4 2019-08-05     0.029837     0.027134"
      ]
     },
     "execution_count": 36,
     "metadata": {},
     "output_type": "execute_result"
    }
   ],
   "source": [
    "# Informações de conversão dos grupos\n",
    "mergedCumulativeConversions.head()"
   ]
  },
  {
   "cell_type": "code",
   "execution_count": 37,
   "metadata": {},
   "outputs": [
    {
     "data": {
      "image/png": "[encoded data removed]",
      "text/plain": [
       "<Figure size 640x480 with 1 Axes>"
      ]
     },
     "metadata": {},
     "output_type": "display_data"
    }
   ],
   "source": [
    "# Construindo o gráfico da diferença relativa na conversão cumulativa dos grupos.\n",
    "plt.plot(mergedCumulativeConversions['date'], mergedCumulativeConversions['conversionB']/mergedCumulativeConversions['conversionA']-1)\n",
    "\n",
    "plt.axhline(y=0, color='black', linestyle='--')\n",
    "plt.axhline(y=0.15, color='grey', linestyle='--')\n",
    "plt.ylim(-0.3, 0.3)\n",
    "\n",
    "plt.title('Diferença relativa da taxa de conversão')\n",
    "plt.ylabel('Diferença percentual')\n",
    "plt.grid(linestyle='--', alpha=0.5)\n",
    "plt.xticks(rotation=90)\n",
    "plt.show()"
   ]
  },
  {
   "cell_type": "markdown",
   "metadata": {},
   "source": [
    "Em relação à diferença relativa da taxa de conversão cumulativa entre os grupos, observamos novamente que, até o dia 5 de agosto, o grupo A estava em vantagem em relação ao grupo B, quando detinha cerca de 10% conversões a mais que o outro.\n",
    "\n",
    "Depois do dia 6, quando as taxas de conversão dos dois grupos se igualam, nota-se o aumento significativo nos valores de conversão do grupo B, invertendo os números anteriores em relação ao grupo A. Dessa forma, os valores da taxa de conversão do grupo B agora estão cerca de 15% superiores aos valores do grupo A, se mantendo nessa faixa ao longo do período em análise, chegando a picos de 20% a mais."
   ]
  },
  {
   "cell_type": "markdown",
   "metadata": {},
   "source": [
    "## Identificando anomalias nos dados"
   ]
  },
  {
   "cell_type": "markdown",
   "metadata": {},
   "source": [
    "Anomalias são dados definidos como outliers, dados tão espaçados dos usualmente vistos em nosso teste que podem interferir nos resultados finais das observações, por estarem desviados significativamente dos demais dados do teste.\n",
    "\n",
    "Dessa forma, o recomendado é que também se observe as informações desconsiderando essas anomalias. Sendo assim, iremos filtrar os nossos dados e remover aqueles considerados anômalos para nosso estudo."
   ]
  },
  {
   "cell_type": "code",
   "execution_count": 38,
   "metadata": {},
   "outputs": [],
   "source": [
    "# Identificando o total de pedidos de cada usuário\n",
    "ordersByUsers = (\n",
    "    df_orders.drop(['revenue', 'date'], axis=1)\n",
    "    .groupby('visitorId', as_index=False)\n",
    "    .agg({'transactionId': pd.Series.nunique, 'group': 'max'})\n",
    ")\n",
    "\n",
    "ordersByUsers.columns = ['userId', 'orders', 'group']"
   ]
  },
  {
   "cell_type": "code",
   "execution_count": 39,
   "metadata": {},
   "outputs": [
    {
     "data": {
      "text/html": [
       "<div>\n",
       "<style scoped>\n",
       "    .dataframe tbody tr th:only-of-type {\n",
       "        vertical-align: middle;\n",
       "    }\n",
       "\n",
       "    .dataframe tbody tr th {\n",
       "        vertical-align: top;\n",
       "    }\n",
       "\n",
       "    .dataframe thead th {\n",
       "        text-align: right;\n",
       "    }\n",
       "</style>\n",
       "<table border=\"1\" class=\"dataframe\">\n",
       "  <thead>\n",
       "    <tr style=\"text-align: right;\">\n",
       "      <th></th>\n",
       "      <th>userId</th>\n",
       "      <th>orders</th>\n",
       "      <th>group</th>\n",
       "    </tr>\n",
       "  </thead>\n",
       "  <tbody>\n",
       "    <tr>\n",
       "      <th>0</th>\n",
       "      <td>5114589</td>\n",
       "      <td>1</td>\n",
       "      <td>B</td>\n",
       "    </tr>\n",
       "    <tr>\n",
       "      <th>1</th>\n",
       "      <td>6958315</td>\n",
       "      <td>1</td>\n",
       "      <td>B</td>\n",
       "    </tr>\n",
       "    <tr>\n",
       "      <th>2</th>\n",
       "      <td>11685486</td>\n",
       "      <td>1</td>\n",
       "      <td>A</td>\n",
       "    </tr>\n",
       "    <tr>\n",
       "      <th>3</th>\n",
       "      <td>39475350</td>\n",
       "      <td>1</td>\n",
       "      <td>B</td>\n",
       "    </tr>\n",
       "    <tr>\n",
       "      <th>4</th>\n",
       "      <td>47206413</td>\n",
       "      <td>1</td>\n",
       "      <td>B</td>\n",
       "    </tr>\n",
       "  </tbody>\n",
       "</table>\n",
       "</div>"
      ],
      "text/plain": [
       "     userId  orders group\n",
       "0   5114589       1     B\n",
       "1   6958315       1     B\n",
       "2  11685486       1     A\n",
       "3  39475350       1     B\n",
       "4  47206413       1     B"
      ]
     },
     "execution_count": 39,
     "metadata": {},
     "output_type": "execute_result"
    }
   ],
   "source": [
    "ordersByUsers.head()"
   ]
  },
  {
   "cell_type": "markdown",
   "metadata": {},
   "source": [
    "### Anomalia no número de pedidos por usuário"
   ]
  },
  {
   "cell_type": "code",
   "execution_count": 40,
   "metadata": {},
   "outputs": [
    {
     "data": {
      "text/plain": [
       "array([1., 2.])"
      ]
     },
     "execution_count": 40,
     "metadata": {},
     "output_type": "execute_result"
    }
   ],
   "source": [
    "# Calculando os percentis 95 e 99 para o número de pedidos por usuário.\n",
    "np.percentile(ordersByUsers['orders'], [95, 99])"
   ]
  },
  {
   "cell_type": "markdown",
   "metadata": {},
   "source": [
    "Os valores dos percentis 95 e 99 representam que, respectivamente, apenas 5% dos usuários do sistema fizeram mais de um pedido, e que apenas 1% dos usuários fizeram mais de dois pedidos. No período de um mês, referente ao período do teste até aqui, consideramos esses valores aceitáveis, pois seria curioso observar grandes quantidades de pedidos por usuário em um espaço tão curto de tempo."
   ]
  },
  {
   "cell_type": "markdown",
   "metadata": {},
   "source": [
    "### Anomalia nos preços dos pedidos"
   ]
  },
  {
   "cell_type": "code",
   "execution_count": 41,
   "metadata": {},
   "outputs": [
    {
     "data": {
      "image/png": "[encoded data removed]",
      "text/plain": [
       "<Figure size 640x480 with 1 Axes>"
      ]
     },
     "metadata": {},
     "output_type": "display_data"
    }
   ],
   "source": [
    "x_values = pd.Series(range(0,len(df_orders)))\n",
    "\n",
    "plt.scatter(x_values, df_orders['revenue'])\n",
    "plt.title('Dispersão dos preços dos pedidos')\n",
    "plt.ylabel('Receita do pedido ($)')\n",
    "plt.show()"
   ]
  },
  {
   "cell_type": "code",
   "execution_count": 42,
   "metadata": {},
   "outputs": [
    {
     "data": {
      "text/plain": [
       "array([414.275, 830.3  ])"
      ]
     },
     "execution_count": 42,
     "metadata": {},
     "output_type": "execute_result"
    }
   ],
   "source": [
    "np.percentile(df_orders['revenue'], [95, 99])"
   ]
  },
  {
   "cell_type": "markdown",
   "metadata": {},
   "source": [
    "Como podemos observar no gráfico de dispersão e nos valores dos percentis 95 e 99 expostos acima, 95% dos pedidos do período estão abaixo da faixa dos $414. Além disso, apenas 1% dos pedidos observados superam a marca de 830. Dessa forma, valores de pedidos maiores que os apresentados podem ser considerados anomalias que podem vir a interferir na observação dos nossos dados e nos resultados do teste.\n",
    "\n",
    "Por sinal, podemos observar, no gráfico de dispersão, que há um pedido único próximo ao valor de $20.000. Esse pedido em específico pode influenciar bastante nos resultados do nosso teste. Prosseguiremos, portanto, com o tratamento dessas anomalias e com a realização de novas observações sobre os grupos."
   ]
  },
  {
   "cell_type": "markdown",
   "metadata": {},
   "source": [
    "### Visitantes que não realizaram pedidos"
   ]
  },
  {
   "cell_type": "markdown",
   "metadata": {},
   "source": [
    "Fica claro também que, em relação aos números de visitas e pedidos, alguns visitantes não realizaram pedidos na plataforma, mas que mesmo assim suas informações entraram em nossa análise. Vamos observar o número de visitantes que não se converteram em clientes, além de tratar seus dados para as observações seguintes."
   ]
  },
  {
   "cell_type": "code",
   "execution_count": 43,
   "metadata": {},
   "outputs": [],
   "source": [
    "# Segregando os dados de nº de pedidos dos usuários e removendo a coluna de grupo.\n",
    "ordersByUsersA = ordersByUsers[ordersByUsers['group']=='A'].drop('group', axis=1)\n",
    "ordersByUsersB = ordersByUsers[ordersByUsers['group']=='B'].drop('group', axis=1)"
   ]
  },
  {
   "cell_type": "code",
   "execution_count": 44,
   "metadata": {},
   "outputs": [
    {
     "data": {
      "text/plain": [
       "18291"
      ]
     },
     "execution_count": 44,
     "metadata": {},
     "output_type": "execute_result"
    }
   ],
   "source": [
    "# Diferença entre o total de visitas e o número de pedidos.\n",
    "df_visits[df_visits['group']=='A']['visits'].sum() - len(ordersByUsersA['orders'])"
   ]
  },
  {
   "cell_type": "code",
   "execution_count": 45,
   "metadata": {},
   "outputs": [
    {
     "data": {
      "text/plain": [
       "18388"
      ]
     },
     "execution_count": 45,
     "metadata": {},
     "output_type": "execute_result"
    }
   ],
   "source": [
    "df_visits[df_visits['group']=='B']['visits'].sum() - len(ordersByUsersB['orders'])"
   ]
  },
  {
   "cell_type": "markdown",
   "metadata": {},
   "source": [
    "Por meio dos dados apresentados acima, observamos que existe uma diferença de 18.291 visitantes do grupo A que não realizaram pedidos em nossa plataforma. Da mesma forma, verificamos que 18.388 visitantes do grupo B também não realizaram pedidos durante o acesso ao site.\n",
    "\n",
    "A seguir, iremos adicionar linhas ao nosso dataframe do número de pedidos por usuário, com a informação de que essas visitas realizaram zero pedidos durante o acesso à plataforma. O total de linhas adicionadas será o total de visitantes de cada grupo que não realizou nenhum pedido."
   ]
  },
  {
   "cell_type": "code",
   "execution_count": 46,
   "metadata": {},
   "outputs": [],
   "source": [
    "# Adicionando as linhas de pedidos zerados ao grupo A.\n",
    "sampleA = pd.concat(\n",
    "    [ordersByUsersA['orders'],pd.Series(0, index=np.arange(\n",
    "        df_visits[df_visits['group']=='A']['visits'].sum() - len(ordersByUsersA['orders'])), name='orders')],axis=0)"
   ]
  },
  {
   "cell_type": "code",
   "execution_count": 47,
   "metadata": {},
   "outputs": [],
   "source": [
    "# Adicionando as linhas de pedidos zerados ao grupo B.\n",
    "sampleB = pd.concat(\n",
    "    [ordersByUsersB['orders'],pd.Series(0, index=np.arange(\n",
    "        df_visits[df_visits['group']=='B']['visits'].sum() - len(ordersByUsersB['orders'])),name='orders')],axis=0)"
   ]
  },
  {
   "cell_type": "markdown",
   "metadata": {},
   "source": [
    "## Descobrindo a significância estatística"
   ]
  },
  {
   "cell_type": "code",
   "execution_count": 48,
   "metadata": {},
   "outputs": [],
   "source": [
    "# Importando a biblioteca scipy.stats\n",
    "import scipy.stats as st"
   ]
  },
  {
   "cell_type": "markdown",
   "metadata": {},
   "source": [
    "Nesse bloco iremos investigar a significância estatística da diferença entre informações dos grupos de controle (grupo A) e de teste (grupo B). Para isso, aplicaremos o teste Mann-Whitney U, que compara duas amostras independentes, às amostras geradas acima, para identificar o valor-p e descobrir se há diferenças ou não entre os valores apresentados.\n",
    "\n",
    "Aplicaremos dois cálculos nas hipóteses a seguir:\n",
    "\n",
    "- o do valor-p, para identificar se há diferença entre as amostas. Se o valor-p for menor que o nível de significância de 5%, rejeitamos a hipótese nula (H0) e concluímos que há diferença significativa entre os grupos amostrais;\n",
    "\n",
    "- a diferença relativa utilizando a razão das médias, que dirá qual a magnitudade dessa diferença amostral."
   ]
  },
  {
   "cell_type": "markdown",
   "metadata": {},
   "source": [
    "### Significância estatística da diferença na conversão entre os grupos usando os dados brutos"
   ]
  },
  {
   "cell_type": "code",
   "execution_count": 49,
   "metadata": {},
   "outputs": [
    {
     "data": {
      "text/plain": [
       "0.01102"
      ]
     },
     "execution_count": 49,
     "metadata": {},
     "output_type": "execute_result"
    }
   ],
   "source": [
    "# Obtendo o valor-p com o teste Mann-Whitney U\n",
    "st.mannwhitneyu(sampleA, sampleB)[1].round(5)"
   ]
  },
  {
   "cell_type": "code",
   "execution_count": 50,
   "metadata": {},
   "outputs": [
    {
     "data": {
      "text/plain": [
       "0.1598"
      ]
     },
     "execution_count": 50,
     "metadata": {},
     "output_type": "execute_result"
    }
   ],
   "source": [
    "# Obtendo a diferença relativa na conversão.\n",
    "(sampleB.mean()/sampleA.mean()-1).round(5)"
   ]
  },
  {
   "cell_type": "markdown",
   "metadata": {},
   "source": [
    "Nessa primeira hipótese, verificamos a existência de diferença significativa entre a conversão dos dois grupos utilizando os dados brutos (ainda não filtrados).\n",
    "\n",
    "No caso acima, o valor-p de 1,1% é inferior ao nível de significância da amostra. Portanto, rejeitamos a hipótese nula e concluímos que há diferença entre a conversão dos grupos amostrais A e B.\n",
    "\n",
    "O valor da diferença relativa, conforme demonstrado pela razão entre as médias de conversão, é de 15,98% a mais de conversões para o grupo B. Essa informação bate com o que havíamos observado nos gráficos exibidos anteriormente."
   ]
  },
  {
   "cell_type": "markdown",
   "metadata": {},
   "source": [
    "### Significância estatística da diferença no tamanho médio do pedido entre os grupos usando os dados brutos"
   ]
  },
  {
   "cell_type": "code",
   "execution_count": 51,
   "metadata": {},
   "outputs": [
    {
     "data": {
      "text/plain": [
       "0.86223"
      ]
     },
     "execution_count": 51,
     "metadata": {},
     "output_type": "execute_result"
    }
   ],
   "source": [
    "# Obtendo o valor-p com o teste Mann-Whitney U\n",
    "st.mannwhitneyu(df_orders[df_orders['group']=='A']['revenue'], df_orders[df_orders['group']=='B']['revenue'])[1].round(5)"
   ]
  },
  {
   "cell_type": "code",
   "execution_count": 52,
   "metadata": {},
   "outputs": [
    {
     "data": {
      "text/plain": [
       "0.27834"
      ]
     },
     "execution_count": 52,
     "metadata": {},
     "output_type": "execute_result"
    }
   ],
   "source": [
    "# Obtendo a diferença relativa no tamanho médio do pedido.\n",
    "(df_orders[df_orders['group']=='B']['revenue'].mean()/df_orders[df_orders['group']=='A']['revenue'].mean()-1).round(5)"
   ]
  },
  {
   "cell_type": "markdown",
   "metadata": {},
   "source": [
    "Em relação ao tamanho médio dos pedidos entre os grupos, o valor-p de 86% indica não existir diferença estatisticamente significativa entre os valores médios dos pedidos dos grupos A e B.\n",
    "\n",
    "Ainda assim, podemos observar que o tamanho médio dos pedidos do grupo B foi cerca de 28% maior que do grupo A. Isso pode se dar devido a anomalias presentes na amostra do grupo B, como visto anteriormente, que fazem com que não exista evidência suficiente para afirmar que a diferença entre os grupos é real."
   ]
  },
  {
   "cell_type": "markdown",
   "metadata": {},
   "source": [
    "## Filtrando os dados das amostras"
   ]
  },
  {
   "cell_type": "markdown",
   "metadata": {},
   "source": [
    "Vimos anteriormente que apenas 1% dos usuários fizeram mais de dois pedidos no período de estudo. Além disso, apenas 5% dos pedidos eram maiores que $415. Desssa forma, podemos identificar dados que raramente ocorrem como outliers, anomalias que podem interferir sobre as observações do estudo.\n",
    "\n",
    "Portanto, a seguir iremos filtrar esses dados de nossas amostras, a fim de observar sua influência sobre o estudo e determinar se tiveram grande interferência durante nossas observações anteriores."
   ]
  },
  {
   "cell_type": "code",
   "execution_count": 53,
   "metadata": {},
   "outputs": [],
   "source": [
    "# Identificando os usuários com mais de 2 pedidos.\n",
    "usersWithManyOrders = pd.concat([ordersByUsersA[ordersByUsersA['orders'] > 2]['userId'], ordersByUsersB[ordersByUsersB['orders'] > 2]['userId']], axis=0)\n",
    "\n",
    "# Identificando os pedidos maiores que $450\n",
    "usersWithExpensiveOrders = df_orders[df_orders['revenue'] > 450]['visitorId']\n",
    "\n",
    "# Atribuindo ambos os registros como usuários anômalos.\n",
    "abnormalUsers = pd.concat([usersWithManyOrders, usersWithExpensiveOrders], axis=0).drop_duplicates().sort_values()"
   ]
  },
  {
   "cell_type": "code",
   "execution_count": 54,
   "metadata": {},
   "outputs": [
    {
     "data": {
      "text/plain": [
       "(51,)"
      ]
     },
     "execution_count": 54,
     "metadata": {},
     "output_type": "execute_result"
    }
   ],
   "source": [
    "abnormalUsers.shape"
   ]
  },
  {
   "cell_type": "markdown",
   "metadata": {},
   "source": [
    "Identificamos 51 usuários anômalos em nossas amostras. Esses são usuários que fizeram mais que dois pedidos, ou cujos pedidos foram maiores que $450, informações notavelmente incomuns em nossas observações anteriores."
   ]
  },
  {
   "cell_type": "code",
   "execution_count": 55,
   "metadata": {},
   "outputs": [],
   "source": [
    "# Filtrando os usuários anômalos do grupo A\n",
    "sampleAFiltered = pd.concat([ordersByUsersA[np.logical_not(ordersByUsersA['userId'].isin(abnormalUsers))]['orders'],\n",
    "                             pd.Series(0, index=np.arange(df_visits[df_visits['group']=='A']['visits'].sum() - len(ordersByUsersA['orders'])),\n",
    "                                       name='orders')],axis=0)"
   ]
  },
  {
   "cell_type": "code",
   "execution_count": 56,
   "metadata": {},
   "outputs": [],
   "source": [
    "# Filtrando os usuários anômalos do grupo B\n",
    "sampleBFiltered = pd.concat([ordersByUsersB[np.logical_not(ordersByUsersB['userId'].isin(abnormalUsers))]['orders'],\n",
    "                             pd.Series(0, index=np.arange(df_visits[df_visits['group']=='B']['visits'].sum() - len(ordersByUsersB['orders'])),\n",
    "                                       name='orders')],axis=0)"
   ]
  },
  {
   "cell_type": "markdown",
   "metadata": {},
   "source": [
    "### Significância estatística da diferença na conversão entre os grupos usando os dados filtrados"
   ]
  },
  {
   "cell_type": "code",
   "execution_count": 57,
   "metadata": {},
   "outputs": [
    {
     "data": {
      "text/plain": [
       "0.00962"
      ]
     },
     "execution_count": 57,
     "metadata": {},
     "output_type": "execute_result"
    }
   ],
   "source": [
    "# Obtendo o valor-p com o teste Mann-Whitney U para os dados filtrados.\n",
    "st.mannwhitneyu(sampleAFiltered, sampleBFiltered)[1].round(5)"
   ]
  },
  {
   "cell_type": "code",
   "execution_count": 58,
   "metadata": {},
   "outputs": [
    {
     "data": {
      "text/plain": [
       "0.18771"
      ]
     },
     "execution_count": 58,
     "metadata": {},
     "output_type": "execute_result"
    }
   ],
   "source": [
    "# Obtendo a diferença relativa na conversão para os dados filtrados.\n",
    "(sampleBFiltered.mean()/sampleAFiltered.mean()-1).round(5)"
   ]
  },
  {
   "cell_type": "markdown",
   "metadata": {},
   "source": [
    "Observamos que, com os dados agora filtrados, o valor-p de 0,96% permanece bem inferior ao nível de significância, valor semelhante ao de 1,1% dos dados brutos. Dessa forma, também rejeitamos a hipótese nula e concluímos que há diferença entre a conversão dos grupos amostrais A e B, mesmo após a filtragem dos dados.\n",
    "\n",
    "Mensuramos a diferença relativa no valor de 18,77%, o que demonstra que, após filtrarmos os dados, o grupo B apresentou uma taxa de conversão ainda maior que a observada anteriormente em comparação ao grupo A (com os dados brutos era de cerca de 16%)."
   ]
  },
  {
   "cell_type": "markdown",
   "metadata": {},
   "source": [
    "### Significância estatística da diferença no tamanho médio do pedido entre os grupos usando os dados filtrados"
   ]
  },
  {
   "cell_type": "code",
   "execution_count": 59,
   "metadata": {},
   "outputs": [
    {
     "data": {
      "text/plain": [
       "0.7836"
      ]
     },
     "execution_count": 59,
     "metadata": {},
     "output_type": "execute_result"
    }
   ],
   "source": [
    "# Obtendo o valor-p com o teste Mann-Whitney U para os dados filtrados.\n",
    "st.mannwhitneyu(\n",
    "    df_orders[np.logical_and(\n",
    "        df_orders['group']=='A',\n",
    "        np.logical_not(df_orders['visitorId'].isin(abnormalUsers)))]['revenue'],\n",
    "    df_orders[np.logical_and(\n",
    "        df_orders['group']=='B',\n",
    "        np.logical_not(df_orders['visitorId'].isin(abnormalUsers)))]['revenue'])[1].round(5)"
   ]
  },
  {
   "cell_type": "code",
   "execution_count": 60,
   "metadata": {},
   "outputs": [
    {
     "data": {
      "text/plain": [
       "-0.02487"
      ]
     },
     "execution_count": 60,
     "metadata": {},
     "output_type": "execute_result"
    }
   ],
   "source": [
    "# Obtendo a diferença relativa no tamanho médio do pedido para os dados filtrados.\n",
    "(df_orders[np.logical_and(df_orders['group']=='B',np.logical_not(\n",
    "    df_orders['visitorId'].isin(abnormalUsers)))]['revenue'].mean()/df_orders[np.logical_and(df_orders['group']=='A',np.logical_not(\n",
    "    df_orders['visitorId'].isin(abnormalUsers)))]['revenue'].mean() - 1).round(5)"
   ]
  },
  {
   "cell_type": "markdown",
   "metadata": {},
   "source": [
    "Comparando os tamanhos médios dos pedidos entre grupos, o valor-p de 78,36% mostra novamente que não existe diferença significativa entre os valores médios de pedidos entre os grupos A e B.\n",
    "\n",
    "Por outro lado, dessa vez observamos que a diferença relativa entre os grupos foi 2,49% maior para o grupo A após a remoção das informações anômalas. Como havíamos identificado anteriormente, o grupo B apresentava valores de outliers que impulsionavam seus valores em relação ao grupo A, mesmo quando nosso teste Mann-Whitney U informava não haver diferença estatisticamente significativa entre os volumes de compra dos dois grupos."
   ]
  },
  {
   "cell_type": "markdown",
   "metadata": {},
   "source": [
    "## Conclusão Geral"
   ]
  },
  {
   "cell_type": "markdown",
   "metadata": {},
   "source": [
    "Feitas as observações e o estudo da análise dos dados dos nossos dois grupos, sugerimos parar com o teste e aplicar a implementação referente ao grupo B, que sugere a implementação de formulários de inscrição nas páginas principais do site.\n",
    "\n",
    "Como pudemos notar, os dados acima indicaram aumento de cerca de 18% na taxa de conversão de visitantes em compradores após a nova implementação, em comparação à versão original do sistema, sem alterações. Além disso, há estabilidade nos valores de conversões diárias, na faixa dos 3% de conversões.\n",
    "\n",
    "Além disso, usuários do grupo de tratamento (grupo B) realizaram compras tão altas que tiveram de ser consideradas anômalas durante nossa análise. Cabe seguir acompanhando esse padrão para identificar se a nova implementação foi determinante para os valores altíssimos de compras, que impulsionaram a receita acumulada do grupo no período, mostrando ser muito maior que a do grupo de controle (grupo A).\n",
    "\n",
    "Por fim, observamos não ter havido diferença estatisticamente significativa entre o tamanho médio das compras dos dois grupos no período, apesar de observarmos valores maiores de compras no grupo B antes da filtragem dos dados brutos."
   ]
  }
 ],
 "metadata": {
  "kernelspec": {
   "display_name": "Python 3 (ipykernel)",
   "language": "python",
   "name": "python3"
  },
  "language_info": {
   "codemirror_mode": {
    "name": "ipython",
    "version": 3
   },
   "file_extension": ".py",
   "mimetype": "text/x-python",
   "name": "python",
   "nbconvert_exporter": "python",
   "pygments_lexer": "ipython3",
   "version": "3.12.7"
  }
 },
 "nbformat": 4,
 "nbformat_minor": 4
}
